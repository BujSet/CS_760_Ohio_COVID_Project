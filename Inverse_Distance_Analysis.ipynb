{
 "cells": [
  {
   "cell_type": "code",
   "execution_count": 1,
   "metadata": {},
   "outputs": [],
   "source": [
    "#import dependencies\n",
    "import pandas as pd\n",
    "import numpy as np\n",
    "import numpy.random as npr\n",
    "import matplotlib.pyplot as plt\n",
    "\n",
    "rseed = 7"
   ]
  },
  {
   "cell_type": "code",
   "execution_count": 19,
   "metadata": {},
   "outputs": [],
   "source": [
    "#read in dataframes\n",
    "oh_covid_df = pd.read_csv(r'OH_COVIDSummaryDataZIP_11_29_20___1.csv')\n",
    "dists_df = pd.read_csv(r'distances.csv')"
   ]
  },
  {
   "cell_type": "code",
   "execution_count": 20,
   "metadata": {},
   "outputs": [
    {
     "name": "stdout",
     "output_type": "stream",
     "text": [
      "['Zip Code ', 'Population ', 'Case Count - Cumulative', 'Case Count - Last 30 Days ', 'Case Count - Last 14 Days ', 'Case Count Per 100K - Cumulative', 'Case Count Per 100K - Last 30 Days', 'Case Count Per 100K - Last 14 Days']\n"
     ]
    }
   ],
   "source": [
    "#show columns of covid data\n",
    "oh_covid_cols = oh_covid_df.columns.tolist()\n",
    "print(oh_covid_cols)"
   ]
  },
  {
   "cell_type": "code",
   "execution_count": 12,
   "metadata": {},
   "outputs": [
    {
     "name": "stdout",
     "output_type": "stream",
     "text": [
      "['Zip1', 'Zip2', 'Distance(miles)']\n"
     ]
    }
   ],
   "source": [
    "#show columns of zip code distance data\n",
    "dists_cols = dists_df.columns.tolist()\n",
    "print(dists_cols)"
   ]
  },
  {
   "cell_type": "code",
   "execution_count": 13,
   "metadata": {},
   "outputs": [
    {
     "name": "stdout",
     "output_type": "stream",
     "text": [
      "(1189, 7)\n",
      "(2244004, 3)\n"
     ]
    }
   ],
   "source": [
    "#build numpy arrays and display shapes\n",
    "oh_covid = oh_covid_df.to_numpy()\n",
    "dists = dists_df.to_numpy()\n",
    "print(oh_covid.shape)\n",
    "print(dists.shape)"
   ]
  },
  {
   "cell_type": "code",
   "execution_count": 14,
   "metadata": {},
   "outputs": [
    {
     "data": {
      "text/plain": [
       "array([[4.3001e+04, 8.5000e+01, 3.7000e+01, 1.9000e+01, 3.0249e+03,\n",
       "        1.3167e+03, 6.7620e+02],\n",
       "       [4.3002e+04,        nan,        nan,        nan,        nan,\n",
       "               nan,        nan],\n",
       "       [4.3003e+04, 5.2000e+01, 3.4000e+01, 1.9000e+01, 1.7304e+03,\n",
       "        1.1314e+03, 6.3230e+02],\n",
       "       [4.3004e+04, 1.3620e+03, 4.9400e+02, 2.1200e+02, 5.2106e+03,\n",
       "        1.8899e+03, 8.1100e+02],\n",
       "       [4.3005e+04,        nan,        nan,        nan,        nan,\n",
       "               nan,        nan]])"
      ]
     },
     "execution_count": 14,
     "metadata": {},
     "output_type": "execute_result"
    }
   ],
   "source": [
    "#display head of covid data array\n",
    "oh_covid[0:5,:]"
   ]
  },
  {
   "cell_type": "code",
   "execution_count": 15,
   "metadata": {},
   "outputs": [
    {
     "data": {
      "text/plain": [
       "array([[45883.        , 45883.        ,     0.        ],\n",
       "       [45883.        , 44331.        ,   156.78305048],\n",
       "       [45883.        , 44615.        ,   187.33630467],\n",
       "       [45883.        , 44665.        ,   194.30870068],\n",
       "       [45883.        , 43837.        ,   165.59264031]])"
      ]
     },
     "execution_count": 15,
     "metadata": {},
     "output_type": "execute_result"
    }
   ],
   "source": [
    "#display head of zip code dist array\n",
    "dists[0:5,:]"
   ]
  },
  {
   "cell_type": "code",
   "execution_count": 16,
   "metadata": {},
   "outputs": [
    {
     "name": "stdout",
     "output_type": "stream",
     "text": [
      "(1498, 3)\n",
      "[[45883.         45883.             0.        ]\n",
      " [45883.         44331.           156.78305048]\n",
      " [45883.         44615.           187.33630467]\n",
      " [45883.         44665.           194.30870068]\n",
      " [45883.         43837.           165.59264031]]\n",
      "[0.         0.99789907 4.29792141 4.64255669 5.66799433]\n"
     ]
    }
   ],
   "source": [
    "#sorting test code\n",
    "#TO BE DELETED BEFORE SUBMISSION\n",
    "temp = dists[dists[:,0] == 45883,:];\n",
    "temp_sorted = temp[temp[:,2].argsort()]\n",
    "print(temp.shape)\n",
    "print(temp[0:5])\n",
    "print(temp_sorted[0:5,2])"
   ]
  },
  {
   "cell_type": "code",
   "execution_count": 24,
   "metadata": {},
   "outputs": [],
   "source": [
    "#do nn_regression for a target zip code given copies of the zip code distances, covid data, \n",
    "# and number of neighbors to consider\n",
    "# done for both quasi-normalized distance and raw distance\n",
    "# returns nn_regression estimates done for each of the |source_data.cols-1| features\n",
    "# in |n_vals|x6 estimates ways for each number of neighbors and distance type\n",
    "# so result is an |source_data.cols-1|x|n_vals|x6 array\n",
    "def nn_regression(target_zip, dist_data, source_data, n_vals):\n",
    "    #list zip code distances to only those that match the target zip code\n",
    "    dist_holder = np.copy(dist_data[dist_data[:,0] == target_zip])\n",
    "    \n",
    "    #sort the distances by distance, ascending \n",
    "    dist_sorted = dist_holder[dist_holder[:,2].argsort()]\n",
    "    \n",
    "    #remove the first line of dist_sorted if it was the zip code itself\n",
    "    if dist_sorted[0,-1] < .1:\n",
    "        dist_sorted = dist_sorted[1:,:]\n",
    "    \n",
    "    #build dist_vals to contain source zip codes, inverse distance, exponential decay distance, \n",
    "        #mean normalized inverse distance, mean normalized exponential decay distance, \n",
    "        #std normalized inverse distance, std normalized exponential decay distance\n",
    "    dShape = dist_sorted.shape\n",
    "    dist_vals = np.zeros((dist_sorted.shape[0], 7))\n",
    "    dist_vals[:,0] = dist_sorted[:,1]\n",
    "    dist_vals[:,1] = 1/dist_sorted[:,2]\n",
    "    dist_vals[:,2] = np.exp(-1*np.square(dist_sorted[:,2]))\n",
    "    dist_mean = np.mean(dist_sorted[:,2])\n",
    "    dist_vals[:,3] = dist_mean/dist_sorted[:,2]\n",
    "    dist_vals[:,4] = np.exp(-1*np.square(dist_sorted[:,2]/dist_mean))\n",
    "    dist_std = np.std(dist_sorted[:,2])\n",
    "    dist_vals[:,5] = dist_std/dist_sorted[:,2]\n",
    "    dist_vals[:,6] = np.exp(-1*np.square(dist_sorted[:,2]/dist_std))\n",
    "    \n",
    "    #build total matrix to account for each option of dist_vals, source_vals, and n\n",
    "    totals = np.zeros((source_data.shape[1]-1,dist_vals.shape[1]-1,np.size(n_vals)))\n",
    "    \n",
    "    #since dist is sorted, only need to go as deep as the max n\n",
    "    depth = np.amax(n_vals)\n",
    "    \n",
    "    #consider as many nearest neighbors as the max of the n options, but tolerate nan data\n",
    "    for k in range(dShape[0]):\n",
    "        #build holder for source data\n",
    "        t = np.zeros(source_data.shape[1]-1)\n",
    "        #no guarantee a match has been found yet\n",
    "        t_found = False\n",
    "        n_found = 0\n",
    "        \n",
    "        #go through source data to find matching source id (zip code)\n",
    "        for j in range(source_data.shape[0]):\n",
    "            #if match, assign to t and breack\n",
    "            if source_data[j,0] == dist_vals[k,0]:\n",
    "                t = source_data[j,1:]\n",
    "                t_found = True\n",
    "                break\n",
    "        #only proceed if source data found and does not contain nans\n",
    "        if t_found and not np.isnan(np.sum(t)):\n",
    "            #update found count\n",
    "            n_found = n_found + 1\n",
    "            \n",
    "            #loop through n neighbor values given to find\n",
    "            for i in range(np.size(n_vals)):\n",
    "                #only if within limit for that neighbor class, proceed\n",
    "                if n_found <= n_vals[i]:\n",
    "                    #update the totals for the corresponding source and distance features\n",
    "                    for x in range(source_data.shape[1]-1):\n",
    "                        for y in range(dist_vals.shape[1]-1):\n",
    "                            totals[x,y,i] = totals[x,y,i] + dist_vals[k,y+1]*source_data[j,x+1]\n",
    "        if n_found >= depth:\n",
    "            break\n",
    "    return totals;"
   ]
  },
  {
   "cell_type": "code",
   "execution_count": null,
   "metadata": {},
   "outputs": [],
   "source": []
  }
 ],
 "metadata": {
  "kernelspec": {
   "display_name": "Python 3",
   "language": "python",
   "name": "python3"
  },
  "language_info": {
   "codemirror_mode": {
    "name": "ipython",
    "version": 3
   },
   "file_extension": ".py",
   "mimetype": "text/x-python",
   "name": "python",
   "nbconvert_exporter": "python",
   "pygments_lexer": "ipython3",
   "version": "3.8.5"
  }
 },
 "nbformat": 4,
 "nbformat_minor": 4
}
