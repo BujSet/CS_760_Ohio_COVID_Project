{
 "cells": [
  {
   "cell_type": "code",
   "execution_count": 1,
   "metadata": {},
   "outputs": [],
   "source": [
    "#import dependencies\n",
    "import pandas as pd\n",
    "import numpy as np\n",
    "import numpy.random as npr\n",
    "import matplotlib.pyplot as plt\n",
    "from sklearn.model_selection import train_test_split\n",
    "\n",
    "rseed = 7 "
   ]
  },
  {
   "cell_type": "code",
   "execution_count": 2,
   "metadata": {},
   "outputs": [],
   "source": [
    "#read in dataframes\n",
    "oh_covid_df = pd.read_csv(r'OH_COVIDSummaryDataZIP_11_29_20___1.csv')\n",
    "dists_df = pd.read_csv(r'distances.csv')"
   ]
  },
  {
   "cell_type": "code",
   "execution_count": 3,
   "metadata": {},
   "outputs": [
    {
     "name": "stdout",
     "output_type": "stream",
     "text": [
      "['Zip Code ', 'Population ', 'Case Count - Cumulative', 'Case Count - Last 30 Days ', 'Case Count - Last 14 Days ', 'Case Count Per 100K - Cumulative', 'Case Count Per 100K - Last 30 Days', 'Case Count Per 100K - Last 14 Days']\n"
     ]
    }
   ],
   "source": [
    "#show columns of covid data\n",
    "oh_covid_cols = oh_covid_df.columns.tolist()\n",
    "print(oh_covid_cols)"
   ]
  },
  {
   "cell_type": "code",
   "execution_count": 4,
   "metadata": {},
   "outputs": [
    {
     "name": "stdout",
     "output_type": "stream",
     "text": [
      "['Zip1', 'Zip2', 'Distance(miles)']\n"
     ]
    }
   ],
   "source": [
    "#show columns of zip code distance data\n",
    "dists_cols = dists_df.columns.tolist()\n",
    "print(dists_cols)"
   ]
  },
  {
   "cell_type": "code",
   "execution_count": 5,
   "metadata": {},
   "outputs": [
    {
     "name": "stdout",
     "output_type": "stream",
     "text": [
      "(1189, 8)\n",
      "(2244004, 3)\n"
     ]
    }
   ],
   "source": [
    "#build numpy arrays and display shapes\n",
    "oh_covid = oh_covid_df.to_numpy()\n",
    "dists = dists_df.to_numpy()\n",
    "print(oh_covid.shape)\n",
    "print(dists.shape)"
   ]
  },
  {
   "cell_type": "code",
   "execution_count": 6,
   "metadata": {},
   "outputs": [],
   "source": [
    "neighbor_vals = np.array([1,2,5,10,25,100])"
   ]
  },
  {
   "cell_type": "code",
   "execution_count": 7,
   "metadata": {},
   "outputs": [
    {
     "data": {
      "text/plain": [
       "array([[4.3001e+04, 2.8100e+03, 8.5000e+01, 3.7000e+01, 1.9000e+01,\n",
       "        3.0249e+03, 1.3167e+03, 6.7620e+02],\n",
       "       [4.3002e+04, 3.7440e+03,        nan,        nan,        nan,\n",
       "               nan,        nan,        nan],\n",
       "       [4.3003e+04, 3.0050e+03, 5.2000e+01, 3.4000e+01, 1.9000e+01,\n",
       "        1.7304e+03, 1.1314e+03, 6.3230e+02],\n",
       "       [4.3004e+04, 2.6139e+04, 1.3620e+03, 4.9400e+02, 2.1200e+02,\n",
       "        5.2106e+03, 1.8899e+03, 8.1100e+02],\n",
       "       [4.3005e+04, 2.0100e+02,        nan,        nan,        nan,\n",
       "               nan,        nan,        nan]])"
      ]
     },
     "execution_count": 7,
     "metadata": {},
     "output_type": "execute_result"
    }
   ],
   "source": [
    "#display head of covid data array\n",
    "oh_covid[0:5,:]"
   ]
  },
  {
   "cell_type": "code",
   "execution_count": 8,
   "metadata": {},
   "outputs": [
    {
     "data": {
      "text/plain": [
       "array([[45883.        , 45883.        ,     0.        ],\n",
       "       [45883.        , 44331.        ,   156.78305048],\n",
       "       [45883.        , 44615.        ,   187.33630467],\n",
       "       [45883.        , 44665.        ,   194.30870068],\n",
       "       [45883.        , 43837.        ,   165.59264031]])"
      ]
     },
     "execution_count": 8,
     "metadata": {},
     "output_type": "execute_result"
    }
   ],
   "source": [
    "#display head of zip code dist array\n",
    "dists[0:5,:]"
   ]
  },
  {
   "cell_type": "code",
   "execution_count": 9,
   "metadata": {},
   "outputs": [
    {
     "name": "stdout",
     "output_type": "stream",
     "text": [
      "(891, 8)\n",
      "[[4.5885e+04 1.2741e+04 7.6100e+02 3.6700e+02 1.0600e+02 5.9728e+03\n",
      "  2.8805e+03 8.3200e+02]\n",
      " [4.5352e+04 2.4200e+02 7.0000e+00        nan        nan 2.8926e+03\n",
      "         nan        nan]]\n",
      "(298, 8)\n",
      "[[4.4685e+04 2.7842e+04 8.2400e+02 4.5600e+02 2.3500e+02 2.9596e+03\n",
      "  1.6378e+03 8.4400e+02]\n",
      " [4.5123e+04 8.7360e+03 1.9600e+02 8.1000e+01 3.5000e+01 2.2436e+03\n",
      "  9.2720e+02 4.0060e+02]]\n"
     ]
    }
   ],
   "source": [
    "oh_covid_train, oh_covid_test = train_test_split(oh_covid,test_size = .25,random_state = rseed,shuffle = True)\n",
    "print(oh_covid_train.shape)\n",
    "print(oh_covid_train[0:2,:])\n",
    "print(oh_covid_test.shape)\n",
    "print(oh_covid_test[0:2,:])"
   ]
  },
  {
   "cell_type": "code",
   "execution_count": 10,
   "metadata": {},
   "outputs": [
    {
     "name": "stdout",
     "output_type": "stream",
     "text": [
      "(1498, 3)\n",
      "[[45883.         45883.             0.        ]\n",
      " [45883.         44331.           156.78305048]\n",
      " [45883.         44615.           187.33630467]\n",
      " [45883.         44665.           194.30870068]\n",
      " [45883.         43837.           165.59264031]]\n",
      "[0.         0.99789907 4.29792141 4.64255669 5.66799433]\n"
     ]
    }
   ],
   "source": [
    "#sorting test code\n",
    "#TO BE DELETED BEFORE SUBMISSION\n",
    "temp = dists[dists[:,0] == 45883,:];\n",
    "temp_sorted = temp[temp[:,2].argsort()]\n",
    "print(temp.shape)\n",
    "print(temp[0:5])\n",
    "print(temp_sorted[0:5,2])"
   ]
  },
  {
   "cell_type": "code",
   "execution_count": 11,
   "metadata": {},
   "outputs": [],
   "source": [
    "#do nn_regression for a target zip code given copies of the zip code distances, covid data, \n",
    "# and number of neighbors to consider\n",
    "# done for both quasi-normalized distance and raw distance\n",
    "# returns nn_regression estimates done for each of the |source_data.cols-1| features\n",
    "# in |n_vals|x6 estimates ways for each number of neighbors and distance type\n",
    "# so result is an |source_data.cols-1|x6x|n_vals| array\n",
    "def nn_regression(target_zip, dist_data, source_data, n_vals):\n",
    "    #list zip code distances to only those that match the target zip code\n",
    "    dist_holder = np.copy(dist_data[dist_data[:,0] == target_zip])\n",
    "    \n",
    "    #sort the distances by distance, ascending \n",
    "    dist_sorted = dist_holder[dist_holder[:,2].argsort()]\n",
    "    \n",
    "    #remove the first line of dist_sorted if it was the zip code itself\n",
    "    dist_sorted[dist_sorted[:,2] < .1] = 10000000\n",
    "    \n",
    "    #build dist_vals to contain source zip codes, inverse distance, exponential decay distance, \n",
    "        #mean normalized inverse distance, mean normalized exponential decay distance, \n",
    "        #std normalized inverse distance, std normalized exponential decay distance\n",
    "    dShape = dist_sorted.shape\n",
    "    dist_vals = np.zeros((dist_sorted.shape[0], 7))\n",
    "    dist_vals[:,0] = dist_sorted[:,1]\n",
    "    dist_vals[:,1] = 1/dist_sorted[:,2]\n",
    "    dist_vals[:,2] = np.exp(-1*np.square(dist_sorted[:,2]))\n",
    "    dist_mean = np.mean(dist_sorted[:,2])\n",
    "    dist_vals[:,3] = dist_mean/dist_sorted[:,2]\n",
    "    dist_vals[:,4] = np.exp(-1*np.square(dist_sorted[:,2]/dist_mean))\n",
    "    dist_std = np.std(dist_sorted[:,2])\n",
    "    dist_vals[:,5] = dist_std/dist_sorted[:,2]\n",
    "    dist_vals[:,6] = np.exp(-1*np.square(dist_sorted[:,2]/dist_std))\n",
    "    \n",
    "    #build total matrix to account for each option of dist_vals, source_vals, and n\n",
    "    totals = np.zeros((source_data.shape[1]-1,dist_vals.shape[1]-1,np.size(n_vals)))\n",
    "    weights = np.zeros((source_data.shape[1]-1,dist_vals.shape[1]-1,np.size(n_vals)))\n",
    "    \n",
    "    #since dist is sorted, only need to go as deep as the max n\n",
    "    depth = np.amax(n_vals)\n",
    "    \n",
    "    #consider as many nearest neighbors as the max of the n options, but tolerate nan data\n",
    "    for k in range(dShape[0]):\n",
    "        #build holder for source data\n",
    "        t = np.zeros(source_data.shape[1]-1)\n",
    "        #no guarantee a match has been found yet\n",
    "        t_found = False\n",
    "        n_found = 0\n",
    "        \n",
    "        #go through source data to find matching source id (zip code)\n",
    "        for j in range(source_data.shape[0]):\n",
    "            #if match, assign to t and breack\n",
    "            if source_data[j,0] == dist_vals[k,0]:\n",
    "                t = source_data[j,:]\n",
    "                t_found = True\n",
    "                break\n",
    "        #only proceed if source data found and does not contain nans\n",
    "        if t_found and not np.isnan(np.sum(t)):\n",
    "            #update found count\n",
    "            n_found = n_found + 1\n",
    "            \n",
    "            #loop through n neighbor values given to find\n",
    "            for i in range(np.size(n_vals)):\n",
    "                #only if within limit for that neighbor class, proceed\n",
    "                if n_found <= n_vals[i]:\n",
    "                    #update the totals for the corresponding source and distance features\n",
    "                    for x in range(source_data.shape[1]-1):\n",
    "                        for y in range(dist_vals.shape[1]-1):\n",
    "                            totals[x,y,i] = totals[x,y,i] + dist_vals[k,y+1]*t[x+1]\n",
    "                            weights[x,y,i] = weights[x,y,i] + dist_vals[k,y+1]\n",
    "        if n_found >= depth:\n",
    "            break\n",
    "    totals = np.divide(totals, weights)\n",
    "    prediction = np.copy(totals)\n",
    "    return prediction;"
   ]
  },
  {
   "cell_type": "code",
   "execution_count": 12,
   "metadata": {},
   "outputs": [
    {
     "name": "stdout",
     "output_type": "stream",
     "text": [
      "(7, 6, 6)\n",
      "[44685. 45123.]\n"
     ]
    }
   ],
   "source": [
    "temp = nn_regression(45215, dists, oh_covid, neighbor_vals)\n",
    "print(temp.shape)\n",
    "print(oh_covid_test[0:2,0])"
   ]
  },
  {
   "cell_type": "code",
   "execution_count": 13,
   "metadata": {},
   "outputs": [
    {
     "name": "stdout",
     "output_type": "stream",
     "text": [
      "[[15539.01339563 11312.37583494 15539.01339563 12140.34176647\n",
      "  15539.01339563 12140.21361973]\n",
      " [  579.41263172   409.32626059   579.41263172   421.26428711\n",
      "    579.41263172   421.23891828]\n",
      " [  236.70732814   151.18273292   236.70732814   185.67718538\n",
      "    236.70732814   185.67230783]\n",
      " [  106.09597085    74.29465426   106.09597085    84.2331595\n",
      "    106.09597085    84.23255856]\n",
      " [ 3560.98335967  3603.90361071  3560.98335967  3286.68080182\n",
      "   3560.98335967  3286.5162878 ]\n",
      " [ 1532.76688565  1374.50644574  1532.76688565  1564.20918067\n",
      "   1532.76688565  1564.16218914]\n",
      " [  688.58231637   673.44999453   688.58231637   707.06246673\n",
      "    688.58231637   707.0525439 ]]\n"
     ]
    }
   ],
   "source": [
    "print(temp[:,:,5])"
   ]
  },
  {
   "cell_type": "code",
   "execution_count": 14,
   "metadata": {},
   "outputs": [],
   "source": [
    "def assess_error(train_data, test_data, dist_data, n_vals):\n",
    "    testShape = test_data.shape\n",
    "    err_rates = np.zeros((test_data.shape[1]-1,6,np.size(n_vals)))\n",
    "    err_tot = np.zeros((test_data.shape[1]-1,6,np.size(n_vals)))\n",
    "    r = 0\n",
    "    for k in range(testShape[0]):\n",
    "        if not np.isnan(np.sum(test_data[k,:])):\n",
    "            r += 1\n",
    "            sample = test_data[k,:]\n",
    "            preds = nn_regression(sample[0], dist_data, train_data, n_vals)\n",
    "            for i in range(np.size(n_vals)):\n",
    "                for j in range(6):\n",
    "                    err_tot[:,j,i] = err_tot[:,j,i] + np.divide(np.abs(np.subtract(preds[:,j,i],sample[1:])),sample[1:])\n",
    "    err_rates = err_tot/r\n",
    "    return err_rates;"
   ]
  },
  {
   "cell_type": "code",
   "execution_count": 15,
   "metadata": {},
   "outputs": [],
   "source": [
    "oh_covid_err_rates = assess_error(oh_covid_train, oh_covid_test, dists, neighbor_vals)"
   ]
  },
  {
   "cell_type": "code",
   "execution_count": 16,
   "metadata": {},
   "outputs": [
    {
     "name": "stdout",
     "output_type": "stream",
     "text": [
      "[[3.88033877 2.05040497 3.88033877 3.96986114 3.88033877 3.96984101]\n",
      " [4.38267697 3.20055594 4.38267697 4.39719428 4.38267697 4.39718424]\n",
      " [3.48354375 2.11500889 3.48354375 3.53339594 3.48354375 3.5334063 ]\n",
      " [3.38599159 1.96566299 3.38599159 3.44540378 3.38599159 3.44540947]\n",
      " [0.29624693 0.31343003 0.29624693 0.34235531 0.29624693 0.34237185]\n",
      " [0.29667051 0.3075416  0.29667051 0.33123491 0.29667051 0.33124261]\n",
      " [0.35537633 0.41743317 0.35537633 0.36694988 0.35537633 0.36695165]]\n"
     ]
    }
   ],
   "source": [
    "print(oh_covid_err_rates[:,:,5])"
   ]
  },
  {
   "cell_type": "code",
   "execution_count": 17,
   "metadata": {},
   "outputs": [],
   "source": [
    "detailed_neighbors = np.array(range(25))+1"
   ]
  },
  {
   "cell_type": "code",
   "execution_count": 18,
   "metadata": {},
   "outputs": [],
   "source": [
    "oh_covid_err_rates_detailed = assess_error(oh_covid_train, oh_covid_test, dists, detailed_neighbors)"
   ]
  },
  {
   "cell_type": "code",
   "execution_count": 19,
   "metadata": {},
   "outputs": [
    {
     "name": "stdout",
     "output_type": "stream",
     "text": [
      "[[3.88033877 2.05040497 3.88033877 3.96986114 3.88033877 3.96984101]\n",
      " [4.38267697 3.20055594 4.38267697 4.39719428 4.38267697 4.39718424]\n",
      " [3.48354375 2.11500889 3.48354375 3.53339594 3.48354375 3.5334063 ]\n",
      " [3.38599159 1.96566299 3.38599159 3.44540378 3.38599159 3.44540947]\n",
      " [0.29624693 0.31343003 0.29624693 0.34235531 0.29624693 0.34237185]\n",
      " [0.29667051 0.3075416  0.29667051 0.33123491 0.29667051 0.33124261]\n",
      " [0.35537633 0.41743317 0.35537633 0.36694988 0.35537633 0.36695165]]\n"
     ]
    }
   ],
   "source": [
    "print(oh_covid_err_rates_detailed[:,:,5])"
   ]
  },
  {
   "cell_type": "code",
   "execution_count": 21,
   "metadata": {},
   "outputs": [
    {
     "ename": "ValueError",
     "evalue": "Expected 1D or 2D array, got 3D array instead",
     "output_type": "error",
     "traceback": [
      "\u001b[1;31m---------------------------------------------------------------------------\u001b[0m",
      "\u001b[1;31mValueError\u001b[0m                                Traceback (most recent call last)",
      "\u001b[1;32m<ipython-input-21-120723ed2991>\u001b[0m in \u001b[0;36m<module>\u001b[1;34m\u001b[0m\n\u001b[1;32m----> 1\u001b[1;33m \u001b[0mnp\u001b[0m\u001b[1;33m.\u001b[0m\u001b[0msavetxt\u001b[0m\u001b[1;33m(\u001b[0m\u001b[1;34m\"oh_covid_err_rates.csv\"\u001b[0m\u001b[1;33m,\u001b[0m \u001b[0moh_covid_err_rates\u001b[0m\u001b[1;33m,\u001b[0m \u001b[0mdelimiter\u001b[0m\u001b[1;33m=\u001b[0m\u001b[1;34m\",\"\u001b[0m\u001b[1;33m)\u001b[0m\u001b[1;33m\u001b[0m\u001b[1;33m\u001b[0m\u001b[0m\n\u001b[0m\u001b[0;32m      2\u001b[0m \u001b[0mnp\u001b[0m\u001b[1;33m.\u001b[0m\u001b[0msavetxt\u001b[0m\u001b[1;33m(\u001b[0m\u001b[1;34m\"oh_covid_err_rates_detailed.csv\"\u001b[0m\u001b[1;33m,\u001b[0m \u001b[0moh_covid_err_rates_detailed\u001b[0m\u001b[1;33m,\u001b[0m \u001b[0mdelimiter\u001b[0m\u001b[1;33m=\u001b[0m\u001b[1;34m\",\"\u001b[0m\u001b[1;33m)\u001b[0m\u001b[1;33m\u001b[0m\u001b[1;33m\u001b[0m\u001b[0m\n",
      "\u001b[1;32m<__array_function__ internals>\u001b[0m in \u001b[0;36msavetxt\u001b[1;34m(*args, **kwargs)\u001b[0m\n",
      "\u001b[1;32m~\\.conda\\envs\\gmsjupyter\\lib\\site-packages\\numpy\\lib\\npyio.py\u001b[0m in \u001b[0;36msavetxt\u001b[1;34m(fname, X, fmt, delimiter, newline, header, footer, comments, encoding)\u001b[0m\n\u001b[0;32m   1369\u001b[0m         \u001b[1;31m# Handle 1-dimensional arrays\u001b[0m\u001b[1;33m\u001b[0m\u001b[1;33m\u001b[0m\u001b[1;33m\u001b[0m\u001b[0m\n\u001b[0;32m   1370\u001b[0m         \u001b[1;32mif\u001b[0m \u001b[0mX\u001b[0m\u001b[1;33m.\u001b[0m\u001b[0mndim\u001b[0m \u001b[1;33m==\u001b[0m \u001b[1;36m0\u001b[0m \u001b[1;32mor\u001b[0m \u001b[0mX\u001b[0m\u001b[1;33m.\u001b[0m\u001b[0mndim\u001b[0m \u001b[1;33m>\u001b[0m \u001b[1;36m2\u001b[0m\u001b[1;33m:\u001b[0m\u001b[1;33m\u001b[0m\u001b[1;33m\u001b[0m\u001b[0m\n\u001b[1;32m-> 1371\u001b[1;33m             raise ValueError(\n\u001b[0m\u001b[0;32m   1372\u001b[0m                 \"Expected 1D or 2D array, got %dD array instead\" % X.ndim)\n\u001b[0;32m   1373\u001b[0m         \u001b[1;32melif\u001b[0m \u001b[0mX\u001b[0m\u001b[1;33m.\u001b[0m\u001b[0mndim\u001b[0m \u001b[1;33m==\u001b[0m \u001b[1;36m1\u001b[0m\u001b[1;33m:\u001b[0m\u001b[1;33m\u001b[0m\u001b[1;33m\u001b[0m\u001b[0m\n",
      "\u001b[1;31mValueError\u001b[0m: Expected 1D or 2D array, got 3D array instead"
     ]
    }
   ],
   "source": [
    "for i in range(np.size(neighbor_vals)):\n",
    "    name_str = \"oh_covid_err_rates_\" + str(i) + .csv\"\n",
    "    np.savetxt(name_str, oh_covid_err_rates[:,:,i], delimiter=\",\")\n",
    "\n",
    "np.savetxt(\"oh_covid_err_rates_detailed.csv\", oh_covid_err_rates_detailed, delimiter=\",\")"
   ]
  },
  {
   "cell_type": "code",
   "execution_count": null,
   "metadata": {},
   "outputs": [],
   "source": []
  }
 ],
 "metadata": {
  "kernelspec": {
   "display_name": "Python 3",
   "language": "python",
   "name": "python3"
  },
  "language_info": {
   "codemirror_mode": {
    "name": "ipython",
    "version": 3
   },
   "file_extension": ".py",
   "mimetype": "text/x-python",
   "name": "python",
   "nbconvert_exporter": "python",
   "pygments_lexer": "ipython3",
   "version": "3.8.5"
  }
 },
 "nbformat": 4,
 "nbformat_minor": 4
}
